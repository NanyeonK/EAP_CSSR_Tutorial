{
 "cells": [
  {
   "cell_type": "code",
   "execution_count": null,
   "metadata": {},
   "outputs": [],
   "source": [
    "import pandas as pd\n",
    "import numpy as np\n",
    "import statsmodels.api as sm"
   ]
  },
  {
   "cell_type": "markdown",
   "metadata": {},
   "source": [
    "## Ch1. Preliminaries"
   ]
  },
  {
   "cell_type": "markdown",
   "metadata": {},
   "source": [
    "### Winsorization and Truncation"
   ]
  },
  {
   "cell_type": "markdown",
   "metadata": {},
   "source": [
    "Empirical asset pricing researchers usually take a more ad hoc approach to dealing with the effect of outliers   \n",
    "\n",
    "Two techniques are commonly used in empirical asset pricing research to deal with the effect of outliers: winsorizing and truncating.    "
   ]
  },
  {
   "cell_type": "markdown",
   "metadata": {},
   "source": [
    "Winsorizing is a technique that replaces extreme values with the nearest non-extreme value.   \n",
    "The idea is to replace the extreme values with the nearest non-extreme value.   \n",
    "For example, if the 1% quantile is 0.5 and the 99% quantile is 100, then all values less than 0.5 are replaced with 0.5 and all values greater than 100 are replaced with 100.   \n"
   ]
  },
  {
   "cell_type": "code",
   "execution_count": null,
   "metadata": {},
   "outputs": [],
   "source": [
    "def winsorize(data, column=False, lower=0.01, upper=0.99, copy=True):\n",
    "    \"\"\"\n",
    "    Winsorizes the input data by replacing extreme values with the nearest values within the specified quantiles.\n",
    "    \n",
    "    Parameters:\n",
    "    data (pd.Series or pd.DataFrame): The data to be winsorized.\n",
    "    column (str or bool): The column to be winsorized or False to winsorize all columns. Defaults to False.\n",
    "    lower (float): The lower quantile threshold. Defaults to 0.01.\n",
    "    upper (float): The upper quantile threshold. Defaults to 0.99.\n",
    "    copy (bool): Whether to return a copy of the data or to modify it in place. Defaults to True.\n",
    "    \n",
    "    Returns:\n",
    "        pd.Series or pd.DataFrame: The winsorized data.\n",
    "    \"\"\"\n",
    "    if copy:\n",
    "        data = data.copy()\n",
    "    \n",
    "    if column:\n",
    "        col_data = data[column]\n",
    "        \n",
    "        print(f\"Original maximum of {column}: {col_data.max()} and Original minimum of {column}: {col_data.min()}\\n\")\n",
    "        \n",
    "        qtl = col_data.quantile([lower, upper])\n",
    "        \n",
    "        # Replace values below the lower quantile\n",
    "        col_data[col_data < qtl.loc[lower]] = qtl.loc[lower]\n",
    "        \n",
    "        # Replace values above the upper quantile\n",
    "        col_data[col_data > qtl.loc[upper]] = qtl.loc[upper]\n",
    "        \n",
    "        data[column] = col_data\n",
    "        \n",
    "        print(f\"New maximum of {column}: {col_data.max()} and New minimum of {column}: {col_data.min()}\\n\")\n",
    "    else:\n",
    "        for col in data.columns:\n",
    "            col_data = data[col]\n",
    "            \n",
    "            print(f\"Original maximum of {col}: {col_data.max()} and Original minimum of {col}: {col_data.min()}\\n\")\n",
    "            \n",
    "            qtl = col_data.quantile([lower, upper])\n",
    "            \n",
    "            # Replace values below the lower quantile\n",
    "            col_data[col_data < qtl.loc[lower]] = qtl.loc[lower]\n",
    "            \n",
    "            # Replace values above the upper quantile\n",
    "            col_data[col_data > qtl.loc[upper]] = qtl.loc[upper]\n",
    "            \n",
    "            data[col] = col_data\n",
    "            \n",
    "            print(f\"New maximum of {col}: {col_data.max()} and New minimum of {col}: {col_data.min()}\\n\")\n",
    "    \n",
    "    return data\n"
   ]
  },
  {
   "cell_type": "code",
   "execution_count": null,
   "metadata": {},
   "outputs": [
    {
     "name": "stdout",
     "output_type": "stream",
     "text": [
      "Data winsorized between 0.01 and 0.99\n",
      "\n",
      "Original maximum: 24.0 and Original minimum: -0.98828125\n",
      "\n",
      "New maximum: 0.5966796875 and New minimum: -0.41015625\n",
      "\n"
     ]
    }
   ],
   "source": [
    "winsor_data = crsp_m.copy()\n",
    "winsor_data['ret'] = winsorize(crsp_m['ret']) # Winsorize returns"
   ]
  },
  {
   "cell_type": "markdown",
   "metadata": {},
   "source": [
    "#### Truncating"
   ]
  },
  {
   "cell_type": "markdown",
   "metadata": {},
   "source": [
    "Truncating is a technique that removes extreme values.   \n",
    "The idea is to remove the extreme values from the data.   \n",
    "For example, if the 1% quantile is 0.5 and the 99% quantile is 100, then all values less than 0.5 and all values greater than 100 are removed.   "
   ]
  },
  {
   "cell_type": "code",
   "execution_count": null,
   "metadata": {},
   "outputs": [],
   "source": [
    "def truncate(data, column=False, lower=0.01, upper=0.99, copy=True):\n",
    "    \"\"\"\n",
    "\n",
    "    Args:\n",
    "        data (_type_): The data to be truncated.\n",
    "        lower (float): The lower quantile threshold. Defaults to 0.01.\n",
    "        upper (float): The upper quantile threshold. Defaults to 0.99.\n",
    "        copy (bool): Whether to return a copy of the data or to modify it in place. Defaults to True.\n",
    "    \n",
    "    Returns:\n",
    "        pd.Series or pd.DataFrame: The truncated data.\n",
    "    \"\"\"\n",
    "    print(f\"Data winsorized between {lower} and {upper}\\n\")\n",
    "    \n",
    "    if copy:\n",
    "        data = data.copy()\n",
    "        \n",
    "    if column:\n",
    "        data = data[column]\n",
    "    \n",
    "    print(f\"Original maximum: {data.max()} and Original minimum: {data.min()}\\n\")\n",
    "    \n",
    "    qtl = data.quantile([lower, upper])\n",
    "    \n",
    "    # Remove values below the lower quantile\n",
    "    data = data[data >= qtl.loc[lower]]\n",
    "    \n",
    "    # Remove values above the upper quantile\n",
    "    data = data[data <= qtl.loc[upper]]\n",
    "    \n",
    "    print(f\"New maximum: {data.max()} and New minimum: {data.min()}\\n\")\n",
    "    return data"
   ]
  },
  {
   "cell_type": "code",
   "execution_count": null,
   "metadata": {},
   "outputs": [
    {
     "name": "stdout",
     "output_type": "stream",
     "text": [
      "Data winsorized between 0.01 and 0.99\n",
      "\n",
      "Original maximum: ret    24.0\n",
      "dtype: float16 and Original minimum: ret   -0.988281\n",
      "dtype: float16\n",
      "\n",
      "New maximum: ret    0.59668\n",
      "dtype: float16 and New minimum: ret   -0.410156\n",
      "dtype: float16\n",
      "\n"
     ]
    }
   ],
   "source": [
    "truncate_data = crsp_m.copy()\n",
    "truncate_data['ret'] = truncate(crsp_m, ['ret']) # Winsorize returns"
   ]
  },
  {
   "cell_type": "markdown",
   "metadata": {},
   "source": [
    "### NEWEY AND WEST (1987) ADJUSTMENT"
   ]
  },
  {
   "cell_type": "markdown",
   "metadata": {},
   "source": [
    "Newey-West standard errors are a robust method for estimating the standard errors of the coefficients in a regression model.   \n",
    "The selection of the lag length is important because it determines the number of periods over which the autocorrelation of the residuals is calculated.   \n",
    "Usally, the lag length is set to the integer part of the cube root of the number of observations or 6 or 12 in empirical asset pricing research.   \n",
    "The Newey-West standard errors are calculated as follows:\n",
    "- 1. Estimate the regression model.\n",
    "- 2. Calculate the residuals.\n",
    "- 3. Calculate the autocovariance of the residuals.\n",
    "- 4. Calculate the Newey-West standard errors.\n",
    "   \n",
    "The Newey-West standard errors are robust to autocorrelation and heteroskedasticity in the residuals.\n"
   ]
  },
  {
   "cell_type": "code",
   "execution_count": null,
   "metadata": {},
   "outputs": [],
   "source": [
    "def newey_west_regression(y, X, lags=None):\n",
    "    \"\"\"\n",
    "    Performs a regression and calculates Newey-West standard errors, t-statistics, and p-values.\n",
    "    \n",
    "    Args:\n",
    "        y (pd.Series or np.array): Dependent variable.\n",
    "        X (pd.DataFrame or np.array): Independent variables.\n",
    "        lags (int): The lag length for Newey-West standard errors. If None, it will be set to the integer part of the cube root of the number of observations.\n",
    "    \n",
    "    Returns:\n",
    "        pd.DataFrame: A DataFrame containing coefficients, Newey-West standard errors, t-statistics, and p-values.\n",
    "    \"\"\"\n",
    "    if lags is None:\n",
    "        lags = int(np.floor(len(y)**(1/3)))  # Set lag length to the integer part of the cube root of the number of observations\n",
    "\n",
    "    # Ensure the dependent variable is numeric\n",
    "    y = pd.to_numeric(y, errors='coerce')\n",
    "    \n",
    "    # Ensure all independent variables are numeric\n",
    "    X = X.apply(pd.to_numeric, errors='coerce')\n",
    "\n",
    "    # Drop rows with any NaN values in y or X\n",
    "    valid_idx = ~y.isna() & X.notna().all(axis=1)\n",
    "    y = y[valid_idx]\n",
    "    X = X[valid_idx]\n",
    "    \n",
    "    # Add a constant term to the independent variables matrix\n",
    "    X = sm.add_constant(X)\n",
    "    \n",
    "    # Estimate the regression model\n",
    "    model = sm.OLS(y, X).fit()\n",
    "    \n",
    "    # Calculate Newey-West standard errors\n",
    "    robust_cov = model.get_robustcov_results(cov_type='HAC', maxlags=lags)\n",
    "    \n",
    "    # Extract coefficients, standard errors, t-statistics, and p-values\n",
    "    results = pd.DataFrame({\n",
    "        'Coefficient': model.params,\n",
    "        'Newey-West SE': robust_cov.bse,\n",
    "        't-Statistic': robust_cov.tvalues,\n",
    "        'p-Value': robust_cov.pvalues\n",
    "    })\n",
    "    \n",
    "    return results"
   ]
  },
  {
   "cell_type": "code",
   "execution_count": null,
   "metadata": {},
   "outputs": [],
   "source": [
    "newey_west_regression(crsp_m['ret'], crsp_m.drop(['ret', 'date', 'permno'], axis=1), lags=6)"
   ]
  },
  {
   "cell_type": "markdown",
   "metadata": {},
   "source": [
    "### Additional Problems"
   ]
  },
  {
   "cell_type": "markdown",
   "metadata": {},
   "source": [
    "Not in the book.\n",
    "However there are several problems about preprocessing the financial data"
   ]
  }
 ],
 "metadata": {
  "language_info": {
   "name": "python"
  }
 },
 "nbformat": 4,
 "nbformat_minor": 2
}
