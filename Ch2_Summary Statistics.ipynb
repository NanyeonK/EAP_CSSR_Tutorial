{
 "cells": [
  {
   "cell_type": "code",
   "execution_count": null,
   "metadata": {},
   "outputs": [],
   "source": [
    "import pandas as pd\n",
    "import numpy as np\n",
    "from scipy.stats import skew, kurtosis, rankdata"
   ]
  },
  {
   "cell_type": "markdown",
   "metadata": {},
   "source": [
    "## Ch2. Summary Statistics"
   ]
  },
  {
   "cell_type": "markdown",
   "metadata": {},
   "source": [
    "It is important for presentation of summary statistics represents a trade-off between showing enough results to give the reader and not presenting so much that the reader is overwhelmed.\n",
    "In this part, show the typical summary statistis tor cross-sectional distribution"
   ]
  },
  {
   "cell_type": "code",
   "execution_count": null,
   "metadata": {},
   "outputs": [],
   "source": [
    "# The summary statistics procedure consists of two sterps: \n",
    "# 1. For each time period $t$, certain charaacteristics of cross-sectional distribution of the given variable, $X$, are calculated.\n",
    "# 2. The time series properties of the periodic cross-sectional characteristics are calculated. \n",
    "#   The most importanr time series properties are the mean\n",
    "#   The mean means the average value of the cross-sectional characteristic over time.\n",
    "\n",
    "# Statistics for univariate distributions of the varaibles used in a study"
   ]
  },
  {
   "cell_type": "code",
   "execution_count": null,
   "metadata": {},
   "outputs": [],
   "source": [
    "#The details of the first step are as follows. For each time period t, we calculate the cross-sectional mean, standard deviation, skewness, excess kurtosis, minimum value, median value, maximum value, and selected additional \n",
    "#percentiles of the distribution of the values of X, where each of these statistics is calculated over all available values of X in period t. \n",
    "#We let Meant be the mean, SDt denote the sample standard deviation, Ske𝑤t represent the sample skewness, Kurtt be the sample excess kurtosis, Mint be the minimum value, Mediant denote the median value, and Maxt represent the \n",
    "#maximum value of X in period t. In addition, we will record the fifth, 25th, 75th, and 95th percentiles of X in month t, which we denote P5t, P25t, P75t, and P95t, respectively. \n",
    "#Depending on the data and the objective of the study, it may be desirable to include additional percentiles of the distribution. \n",
    "#For example, if the study focuses on extreme values of X, then it may be valuable to record the first, second, third, fourth, 96th, 97th, 98th, and 99th percentiles of the distribution as well.\n",
    "#Alternatively, calculating the minimum, maximum, fifth percentile, and 95th percentile of the data may not be necessary if the data are reasonably well behaved. \n",
    "#Exactly which statistics to record and present is a decision made by the researcher, who, presumably, has a much deeper understanding of the data than could possibly be presented in a research article.\n",
    "#In addition to these statistics describing the time t cross-sectional distribution of X, we also record the number of entities for which a valid value of X is available in period t and denote this number nt."
   ]
  },
  {
   "cell_type": "code",
   "execution_count": null,
   "metadata": {},
   "outputs": [],
   "source": [
    "# The objectives in analyzing the summary statistics are twofold. First, the summary statistics are intended to give a basic overview of the cross-sectional properties \n",
    "# of the variables that will be used in the study. This is useful for understanding the types of entities that comprise the sample. \n",
    "# Second, the summary statistics can be used to identify any potential issues that may arise when using these variables in statistical analyses."
   ]
  },
  {
   "cell_type": "markdown",
   "metadata": {},
   "source": [
    "First Stage"
   ]
  },
  {
   "cell_type": "code",
   "execution_count": null,
   "metadata": {},
   "outputs": [],
   "source": [
    "def cal_cs_stats(df, time_column, value_column, additional_percentiles=False):\n",
    "    \"\"\"\n",
    "    Calculate cross-sectional statistics for each time period.\n",
    "    \n",
    "    Args:\n",
    "        df (pd.DataFrame): The data frame containing the data.\n",
    "        time_column (str): The name of the column representing time periods.\n",
    "        value_column (str): The name of the column representing the values of X.\n",
    "        additional_percentiles (list of float): Additional percentiles to calculate (optional).\n",
    "    \n",
    "    Returns:\n",
    "        pd.DataFrame: A data frame containing the calculated statistics for each time period.\n",
    "    \"\"\"\n",
    "    if additional_percentiles:\n",
    "        additional_percentiles_list = [0.01, 0.02, 0.03, 0.04, 0.96, 0.97, 0.98, 0.99]\n",
    "\n",
    "    # Function to calculate the required statistics for a given period\n",
    "    def calc_period_stats(group, additional_percentiles=additional_percentiles):\n",
    "        stats = {\n",
    "            'Time': group[time_column].iloc[0],  # Time column\n",
    "            'Mean': group[value_column].mean(),\n",
    "            'SD': group[value_column].std(),\n",
    "            'Skew': skew(group[value_column], nan_policy='omit'),\n",
    "            'Kurt': kurtosis(group[value_column], nan_policy='omit'),\n",
    "            'Min': group[value_column].min(),\n",
    "            'Median': group[value_column].median(),\n",
    "            'Max': group[value_column].max(),\n",
    "            'P5': group[value_column].quantile(0.05),\n",
    "            'P25': group[value_column].quantile(0.25),\n",
    "            'P75': group[value_column].quantile(0.75),\n",
    "            'P95': group[value_column].quantile(0.95),\n",
    "            'N': group[value_column].count()\n",
    "        }\n",
    "        \n",
    "        if additional_percentiles:\n",
    "            for percentile in additional_percentiles_list:\n",
    "                stats[f'P{int(percentile*100)}'] = group[value_column].quantile(percentile)\n",
    "        \n",
    "        return pd.Series(stats)\n",
    "    \n",
    "    # Group the data by the time column and apply the function\n",
    "    stats_df = df.groupby(time_column).apply(calc_period_stats).reset_index(drop=True)\n",
    "    \n",
    "    \n",
    "    return stats_df"
   ]
  },
  {
   "cell_type": "markdown",
   "metadata": {},
   "source": [
    "Second Stage\n",
    "\n",
    "caculate the time-series averages of the periodic cross-sectional values.\n",
    "    $Mean$: time-series average of the values of $Mean_t$ over all periods $t$ in the sample.\n",
    "\n",
    "Caculate the time-series means of the corss-sectional summary statistics"
   ]
  },
  {
   "cell_type": "code",
   "execution_count": null,
   "metadata": {},
   "outputs": [],
   "source": [
    "def cal_ts_mean(stats_df):\n",
    "    \"\"\"\n",
    "    Calculate the time-series averages of the cross-sectional statistics.\n",
    "    \n",
    "    Args:\n",
    "        stats_df (pd.DataFrame): A data frame containing cross-sectional statistics for each time period.\n",
    "    \n",
    "    Returns:\n",
    "        pd.Series: A series containing the time-series averages of the cross-sectional statistics.\n",
    "    \"\"\"\n",
    "    # Exclude the time column for averaging\n",
    "    stats_to_average = stats_df.drop(columns=['Time'])\n",
    "    \n",
    "    # Calculate the time-series averages\n",
    "    time_series_averages = stats_to_average.mean()\n",
    "    \n",
    "    df = pd.DataFrame(time_series_averages).T\n",
    "\n",
    "    return df"
   ]
  }
 ],
 "metadata": {
  "language_info": {
   "name": "python"
  }
 },
 "nbformat": 4,
 "nbformat_minor": 2
}
