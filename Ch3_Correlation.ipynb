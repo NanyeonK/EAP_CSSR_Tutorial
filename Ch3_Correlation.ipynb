{
 "cells": [
  {
   "cell_type": "code",
   "execution_count": null,
   "metadata": {},
   "outputs": [],
   "source": [
    "import pandas as pd\n",
    "import numpy as np\n",
    "from scipy.stats import pearsonr, spearmanr"
   ]
  },
  {
   "cell_type": "markdown",
   "metadata": {},
   "source": [
    "## Ch3. Correlation"
   ]
  },
  {
   "cell_type": "markdown",
   "metadata": {},
   "source": [
    "There are two correalations \n",
    "1. Pearson product moment correlation\n",
    "2. Spearmann rank correlation "
   ]
  },
  {
   "cell_type": "markdown",
   "metadata": {},
   "source": [
    "Pearson product moment correlation: most applicable when the relation between the two variabels, which we denote X and Y.\n",
    "Pearson correlation can be roughly interpreted as the signed percentage of variation in X that is related to variation in Y.\n",
    "With the sign being positive if X tends to be high when Y is high and the sign being negative whne high values of X tends to correspeond to low values of Y"
   ]
  },
  {
   "cell_type": "markdown",
   "metadata": {},
   "source": [
    "Spearman rank correlation is most application when the relation between the variables is though to be monotonic but not neccessarily linear.\n",
    "Mesures how closely related the ordering of X is to the ordering of Y"
   ]
  },
  {
   "cell_type": "markdown",
   "metadata": {},
   "source": [
    "1. Calcuate the cross-sectional correlation between the two variables in question, X and Y for each period t\n",
    "2. time-series average of the cross-sectional correlations."
   ]
  },
  {
   "cell_type": "code",
   "execution_count": null,
   "metadata": {},
   "outputs": [],
   "source": [
    "def cal_corr(group, var1, var2, option='all'):\n",
    "    \"\"\"\n",
    "    Calculate the correlation between two variables for a given period.\n",
    "\n",
    "    Args:\n",
    "        group (pd.DataFrame): The data for the given period.\n",
    "        var1 (str): The name of the first variable.\n",
    "        var2 (str): The name of the second variable.\n",
    "        option (str): The correlation type to calculate ('pearson', 'spearman', or 'all'). Defaults to 'all'.\n",
    "        \n",
    "    Returns:\n",
    "        pd.Series: A series containing the correlation between the two variables.\n",
    "    \"\"\"\n",
    "    if option == 'pearson':\n",
    "        pearson_corr, _ = pearsonr(group[var1], group[var2])\n",
    "        return pd.Series({'Pearson': pearson_corr})\n",
    "    elif option == 'spearman':\n",
    "        spearman_corr, _ = spearmanr(group[var1], group[var2])\n",
    "        return pd.Series({'Spearman': spearman_corr})\n",
    "    elif option == 'all':\n",
    "        pearson_corr, _ = pearsonr(group[var1], group[var2])\n",
    "        spearman_corr, _ = spearmanr(group[var1], group[var2])\n",
    "        return pd.Series({'Pearson': pearson_corr, 'Spearman': spearman_corr})\n",
    "    else:\n",
    "        raise ValueError(\"Invalid option for correlation type. Choose from 'pearson', 'spearman', or 'all'.\")"
   ]
  },
  {
   "cell_type": "code",
   "execution_count": null,
   "metadata": {},
   "outputs": [],
   "source": [
    "def cal_per_corr(df, time_column, specific_date=None):\n",
    "    \"\"\"\n",
    "    Calculate Pearson and Spearman correlations for each time period for all pairs of variables.\n",
    "    \n",
    "    Args:\n",
    "        df (pd.DataFrame): The data frame containing the data.\n",
    "        time_column (str): The name of the column representing time periods.\n",
    "        specific_date (str or None): A specific date to filter the data. If None, calculate for all dates.\n",
    "    \n",
    "    Returns:\n",
    "        pd.DataFrame: A data frame containing the Pearson and Spearman correlations for each time period.\n",
    "    \"\"\"\n",
    "    if specific_date:\n",
    "        df = df[df[time_column] == specific_date]\n",
    "    \n",
    "    variables = [col for col in df.columns if col != time_column]\n",
    "    correlations = []\n",
    "\n",
    "    for i, var1 in enumerate(variables):\n",
    "        for var2 in variables[i+1:]:\n",
    "            corr_df = df.groupby(time_column).apply(lambda group: cal_corr(group, var1, var2)).reset_index()\n",
    "            corr_df['Var1'] = var1\n",
    "            corr_df['Var2'] = var2\n",
    "            correlations.append(corr_df)\n",
    "\n",
    "    all_correlations = pd.concat(correlations, ignore_index=True)\n",
    "    return all_correlations"
   ]
  },
  {
   "cell_type": "code",
   "execution_count": null,
   "metadata": {},
   "outputs": [],
   "source": [
    "def cal_ts_avcorr(correlations_df):\n",
    "    \"\"\"\n",
    "    Calculate the time-series averages of the periodic cross-sectional correlations.\n",
    "    \n",
    "    Args:\n",
    "        correlations_df (pd.DataFrame): A data frame containing the periodic correlations.\n",
    "    \n",
    "    Returns:\n",
    "        pd.DataFrame: A data frame containing the time-series average Pearson and Spearman correlations.\n",
    "    \"\"\"\n",
    "    avg_corrs = correlations_df.groupby(['Var1', 'Var2'])[['Pearson', 'Spearman']].mean().reset_index()\n",
    "    return avg_corrs"
   ]
  },
  {
   "cell_type": "code",
   "execution_count": null,
   "metadata": {},
   "outputs": [],
   "source": [
    "def cal_ts_avcorr(correlations_df):\n",
    "    \"\"\"\n",
    "    Calculate the time-series averages of the periodic cross-sectional correlations.\n",
    "    \n",
    "    Args:\n",
    "        correlations_df (pd.DataFrame): A data frame containing the periodic correlations.\n",
    "    \n",
    "    Returns:\n",
    "        pd.DataFrame: A data frame containing the time-series average Pearson and Spearman correlations.\n",
    "    \"\"\"\n",
    "    avg_corrs = correlations_df.groupby(['Var1', 'Var2'])[['Pearson', 'Spearman']].mean().reset_index()\n",
    "    return avg_corrs"
   ]
  },
  {
   "cell_type": "markdown",
   "metadata": {},
   "source": [
    "If the Spearman rank correlation is substantially larger in magnitude than the Pearson product–moment correlation, this likely indicates that there is a monotonic, but not linear, relation between the variables. \n",
    "This type of relation signals that linear regression analysis is a potentially problematic statistical technique to apply to the given variables if one of the variables is used as the dependent variable. \n",
    "\n",
    "If the Pearson product–moment correlation is substantially larger in magnitude than the Spearman rank correlation, this may indicate that there are a few extreme data points in one of the variables that are exerting a strong influence on the calculation of the Pearson product–moment correlation.\n",
    "In this case, it is possible that winsorizing one or both of the variables at a higher level will alleviate this issue. \n",
    "\n",
    "Finally, it is worth noting here that, because of the assumption of linearity in the calculation of the Pearson product–moment correlation, this measure is usually more indicative of results that will be realized using regression techniques such as Fama and MacBeth (1973) regression analysis (presented in Chapter 6). Because the Spearman rank correlation is based on the ordering of the variables, Spearman rank correlations are more likely indicative of the results of analyses that rely on the ranking, or ordering, of the variables, such as portfolio analysis (presented in Chapter 5)."
   ]
  }
 ],
 "metadata": {
  "language_info": {
   "name": "python"
  }
 },
 "nbformat": 4,
 "nbformat_minor": 2
}
